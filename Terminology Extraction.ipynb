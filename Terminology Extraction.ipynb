{
 "cells": [
  {
   "cell_type": "markdown",
   "metadata": {},
   "source": [
    "## Terminology Extraction\n"
   ]
  },
  {
   "cell_type": "code",
   "execution_count": 1,
   "metadata": {},
   "outputs": [
    {
     "data": {
      "text/html": [
       "<div>\n",
       "<style scoped>\n",
       "    .dataframe tbody tr th:only-of-type {\n",
       "        vertical-align: middle;\n",
       "    }\n",
       "\n",
       "    .dataframe tbody tr th {\n",
       "        vertical-align: top;\n",
       "    }\n",
       "\n",
       "    .dataframe thead th {\n",
       "        text-align: right;\n",
       "    }\n",
       "</style>\n",
       "<table border=\"1\" class=\"dataframe\">\n",
       "  <thead>\n",
       "    <tr style=\"text-align: right;\">\n",
       "      <th></th>\n",
       "      <th>authors</th>\n",
       "      <th>category</th>\n",
       "      <th>content</th>\n",
       "      <th>date</th>\n",
       "      <th>id</th>\n",
       "      <th>img_src</th>\n",
       "      <th>section</th>\n",
       "      <th>tags</th>\n",
       "      <th>title</th>\n",
       "      <th>topics</th>\n",
       "      <th>url</th>\n",
       "    </tr>\n",
       "  </thead>\n",
       "  <tbody>\n",
       "    <tr>\n",
       "      <th>0</th>\n",
       "      <td>Dale Chang</td>\n",
       "      <td>Startups</td>\n",
       "      <td>\\n\\nTech investing isn’t what it used to be — ...</td>\n",
       "      <td>2016-10-15</td>\n",
       "      <td>1401293</td>\n",
       "      <td>https://tctechcrunch2011.files.wordpress.com/2...</td>\n",
       "      <td>startups/</td>\n",
       "      <td>data</td>\n",
       "      <td>How startups can use data to grow smarter</td>\n",
       "      <td>NaN</td>\n",
       "      <td>https://techcrunch.com/2016/10/15/how-startups...</td>\n",
       "    </tr>\n",
       "    <tr>\n",
       "      <th>1</th>\n",
       "      <td>Ben Narasin,Jeremy Abelson</td>\n",
       "      <td>Fundings &amp; Exits</td>\n",
       "      <td>\\n\\nThe IPO market is poised to make an almost...</td>\n",
       "      <td>2016-10-14</td>\n",
       "      <td>1399050</td>\n",
       "      <td>https://tctechcrunch2011.files.wordpress.com/2...</td>\n",
       "      <td>startups/</td>\n",
       "      <td>ipo</td>\n",
       "      <td>While the IPO market roars back, venture remai...</td>\n",
       "      <td>NaN</td>\n",
       "      <td>https://techcrunch.com/2016/10/14/while-the-ip...</td>\n",
       "    </tr>\n",
       "    <tr>\n",
       "      <th>2</th>\n",
       "      <td>Matthew Lynley</td>\n",
       "      <td>Apps</td>\n",
       "      <td>Under pressure from shoppers complaining about...</td>\n",
       "      <td>2016-10-14</td>\n",
       "      <td>1401954</td>\n",
       "      <td>https://tctechcrunch2011.files.wordpress.com/2...</td>\n",
       "      <td>startups/</td>\n",
       "      <td>apoorva-mehta</td>\n",
       "      <td>Instacart reverses course, re-introducing tips...</td>\n",
       "      <td>instacart</td>\n",
       "      <td>https://techcrunch.com/2016/10/14/instacart-re...</td>\n",
       "    </tr>\n",
       "    <tr>\n",
       "      <th>3</th>\n",
       "      <td>Matthew Lynley,Ingrid Lunden</td>\n",
       "      <td>Fundings &amp; Exits</td>\n",
       "      <td>PayPal, the giant digital payments company tha...</td>\n",
       "      <td>2016-10-14</td>\n",
       "      <td>1390023</td>\n",
       "      <td>https://tctechcrunch2011.files.wordpress.com/2...</td>\n",
       "      <td>startups/</td>\n",
       "      <td>gofundme</td>\n",
       "      <td>PayPal mulled buying GoFundMe</td>\n",
       "      <td>paypal</td>\n",
       "      <td>https://techcrunch.com/2016/10/14/paypal-gobuyme/</td>\n",
       "    </tr>\n",
       "    <tr>\n",
       "      <th>4</th>\n",
       "      <td>Megan Rose Dickey</td>\n",
       "      <td>Startups</td>\n",
       "      <td>Uber, the ridesharing behemoth that recently b...</td>\n",
       "      <td>2016-10-13</td>\n",
       "      <td>1401633</td>\n",
       "      <td>https://tctechcrunch2011.files.wordpress.com/2...</td>\n",
       "      <td>startups/</td>\n",
       "      <td>lawsuits</td>\n",
       "      <td>Uber hits another roadblock</td>\n",
       "      <td>uber</td>\n",
       "      <td>https://techcrunch.com/2016/10/13/uber-hits-an...</td>\n",
       "    </tr>\n",
       "  </tbody>\n",
       "</table>\n",
       "</div>"
      ],
      "text/plain": [
       "                        authors          category  \\\n",
       "0                    Dale Chang          Startups   \n",
       "1    Ben Narasin,Jeremy Abelson  Fundings & Exits   \n",
       "2                Matthew Lynley              Apps   \n",
       "3  Matthew Lynley,Ingrid Lunden  Fundings & Exits   \n",
       "4             Megan Rose Dickey          Startups   \n",
       "\n",
       "                                             content        date       id  \\\n",
       "0  \\n\\nTech investing isn’t what it used to be — ...  2016-10-15  1401293   \n",
       "1  \\n\\nThe IPO market is poised to make an almost...  2016-10-14  1399050   \n",
       "2  Under pressure from shoppers complaining about...  2016-10-14  1401954   \n",
       "3  PayPal, the giant digital payments company tha...  2016-10-14  1390023   \n",
       "4  Uber, the ridesharing behemoth that recently b...  2016-10-13  1401633   \n",
       "\n",
       "                                             img_src    section  \\\n",
       "0  https://tctechcrunch2011.files.wordpress.com/2...  startups/   \n",
       "1  https://tctechcrunch2011.files.wordpress.com/2...  startups/   \n",
       "2  https://tctechcrunch2011.files.wordpress.com/2...  startups/   \n",
       "3  https://tctechcrunch2011.files.wordpress.com/2...  startups/   \n",
       "4  https://tctechcrunch2011.files.wordpress.com/2...  startups/   \n",
       "\n",
       "            tags                                              title  \\\n",
       "0           data          How startups can use data to grow smarter   \n",
       "1            ipo  While the IPO market roars back, venture remai...   \n",
       "2  apoorva-mehta  Instacart reverses course, re-introducing tips...   \n",
       "3       gofundme                      PayPal mulled buying GoFundMe   \n",
       "4       lawsuits                        Uber hits another roadblock   \n",
       "\n",
       "      topics                                                url  \n",
       "0        NaN  https://techcrunch.com/2016/10/15/how-startups...  \n",
       "1        NaN  https://techcrunch.com/2016/10/14/while-the-ip...  \n",
       "2  instacart  https://techcrunch.com/2016/10/14/instacart-re...  \n",
       "3     paypal  https://techcrunch.com/2016/10/14/paypal-gobuyme/  \n",
       "4       uber  https://techcrunch.com/2016/10/13/uber-hits-an...  "
      ]
     },
     "execution_count": 1,
     "metadata": {},
     "output_type": "execute_result"
    }
   ],
   "source": [
    "import pandas as pd\n",
    "# load the dataset\n",
    "dataset = pd.read_csv('text.csv')\n",
    "dataset.head()"
   ]
  },
  {
   "cell_type": "code",
   "execution_count": 19,
   "metadata": {},
   "outputs": [],
   "source": [
    "dataset = dataset.drop('section', axis=1)"
   ]
  },
  {
   "cell_type": "code",
   "execution_count": 56,
   "metadata": {},
   "outputs": [
    {
     "data": {
      "text/plain": [
       "0        0        \\n\\nTech investing isn’t what it used...\n",
       "1        0        \\n\\nTech investing isn’t what it used...\n",
       "2        0        \\n\\nTech investing isn’t what it used...\n",
       "3        0        \\n\\nTech investing isn’t what it used...\n",
       "4        0        \\n\\nTech investing isn’t what it used...\n",
       "                               ...                        \n",
       "39110    0        \\n\\nTech investing isn’t what it used...\n",
       "39111    0        \\n\\nTech investing isn’t what it used...\n",
       "39112    0        \\n\\nTech investing isn’t what it used...\n",
       "39113    0        \\n\\nTech investing isn’t what it used...\n",
       "39114    0        \\n\\nTech investing isn’t what it used...\n",
       "Name: content, Length: 39115, dtype: object"
      ]
     },
     "execution_count": 56,
     "metadata": {},
     "output_type": "execute_result"
    }
   ],
   "source": [
    "dataset.content"
   ]
  },
  {
   "cell_type": "code",
   "execution_count": 26,
   "metadata": {},
   "outputs": [],
   "source": [
    "#dataset = dataset[dataset.abstract != 'Abstract Missing']"
   ]
  },
  {
   "cell_type": "code",
   "execution_count": 57,
   "metadata": {},
   "outputs": [
    {
     "data": {
      "text/html": [
       "<div>\n",
       "<style scoped>\n",
       "    .dataframe tbody tr th:only-of-type {\n",
       "        vertical-align: middle;\n",
       "    }\n",
       "\n",
       "    .dataframe tbody tr th {\n",
       "        vertical-align: top;\n",
       "    }\n",
       "\n",
       "    .dataframe thead th {\n",
       "        text-align: right;\n",
       "    }\n",
       "</style>\n",
       "<table border=\"1\" class=\"dataframe\">\n",
       "  <thead>\n",
       "    <tr style=\"text-align: right;\">\n",
       "      <th></th>\n",
       "      <th>content</th>\n",
       "      <th>title</th>\n",
       "      <th>word_count</th>\n",
       "    </tr>\n",
       "  </thead>\n",
       "  <tbody>\n",
       "    <tr>\n",
       "      <th>0</th>\n",
       "      <td>0        \\n\\nTech investing isn’t what it used...</td>\n",
       "      <td>How startups can use data to grow smarter</td>\n",
       "      <td>668</td>\n",
       "    </tr>\n",
       "    <tr>\n",
       "      <th>1</th>\n",
       "      <td>0        \\n\\nTech investing isn’t what it used...</td>\n",
       "      <td>While the IPO market roars back, venture remai...</td>\n",
       "      <td>881</td>\n",
       "    </tr>\n",
       "    <tr>\n",
       "      <th>2</th>\n",
       "      <td>0        \\n\\nTech investing isn’t what it used...</td>\n",
       "      <td>Instacart reverses course, re-introducing tips...</td>\n",
       "      <td>651</td>\n",
       "    </tr>\n",
       "    <tr>\n",
       "      <th>3</th>\n",
       "      <td>0        \\n\\nTech investing isn’t what it used...</td>\n",
       "      <td>PayPal mulled buying GoFundMe</td>\n",
       "      <td>655</td>\n",
       "    </tr>\n",
       "    <tr>\n",
       "      <th>4</th>\n",
       "      <td>0        \\n\\nTech investing isn’t what it used...</td>\n",
       "      <td>Uber hits another roadblock</td>\n",
       "      <td>455</td>\n",
       "    </tr>\n",
       "  </tbody>\n",
       "</table>\n",
       "</div>"
      ],
      "text/plain": [
       "                                             content  \\\n",
       "0  0        \\n\\nTech investing isn’t what it used...   \n",
       "1  0        \\n\\nTech investing isn’t what it used...   \n",
       "2  0        \\n\\nTech investing isn’t what it used...   \n",
       "3  0        \\n\\nTech investing isn’t what it used...   \n",
       "4  0        \\n\\nTech investing isn’t what it used...   \n",
       "\n",
       "                                               title  word_count  \n",
       "0          How startups can use data to grow smarter         668  \n",
       "1  While the IPO market roars back, venture remai...         881  \n",
       "2  Instacart reverses course, re-introducing tips...         651  \n",
       "3                      PayPal mulled buying GoFundMe         655  \n",
       "4                        Uber hits another roadblock         455  "
      ]
     },
     "execution_count": 57,
     "metadata": {},
     "output_type": "execute_result"
    }
   ],
   "source": [
    "dataset.head()"
   ]
  },
  {
   "cell_type": "code",
   "execution_count": 81,
   "metadata": {},
   "outputs": [
    {
     "data": {
      "text/html": [
       "<div>\n",
       "<style scoped>\n",
       "    .dataframe tbody tr th:only-of-type {\n",
       "        vertical-align: middle;\n",
       "    }\n",
       "\n",
       "    .dataframe tbody tr th {\n",
       "        vertical-align: top;\n",
       "    }\n",
       "\n",
       "    .dataframe thead th {\n",
       "        text-align: right;\n",
       "    }\n",
       "</style>\n",
       "<table border=\"1\" class=\"dataframe\">\n",
       "  <thead>\n",
       "    <tr style=\"text-align: right;\">\n",
       "      <th></th>\n",
       "      <th>title</th>\n",
       "      <th>word_count</th>\n",
       "    </tr>\n",
       "  </thead>\n",
       "  <tbody>\n",
       "    <tr>\n",
       "      <th>0</th>\n",
       "      <td>How startups can use data to grow smarter</td>\n",
       "      <td>8</td>\n",
       "    </tr>\n",
       "    <tr>\n",
       "      <th>1</th>\n",
       "      <td>While the IPO market roars back, venture remai...</td>\n",
       "      <td>9</td>\n",
       "    </tr>\n",
       "    <tr>\n",
       "      <th>2</th>\n",
       "      <td>Instacart reverses course, re-introducing tips...</td>\n",
       "      <td>7</td>\n",
       "    </tr>\n",
       "    <tr>\n",
       "      <th>3</th>\n",
       "      <td>PayPal mulled buying GoFundMe</td>\n",
       "      <td>4</td>\n",
       "    </tr>\n",
       "    <tr>\n",
       "      <th>4</th>\n",
       "      <td>Uber hits another roadblock</td>\n",
       "      <td>4</td>\n",
       "    </tr>\n",
       "  </tbody>\n",
       "</table>\n",
       "</div>"
      ],
      "text/plain": [
       "                                               title  word_count\n",
       "0          How startups can use data to grow smarter           8\n",
       "1  While the IPO market roars back, venture remai...           9\n",
       "2  Instacart reverses course, re-introducing tips...           7\n",
       "3                      PayPal mulled buying GoFundMe           4\n",
       "4                        Uber hits another roadblock           4"
      ]
     },
     "execution_count": 81,
     "metadata": {},
     "output_type": "execute_result"
    }
   ],
   "source": [
    "dataset['word_count'] = dataset['title'].apply(lambda x: len(str(x).split(\" \")))\n",
    "dataset[['title','word_count']].head()"
   ]
  },
  {
   "cell_type": "code",
   "execution_count": 82,
   "metadata": {},
   "outputs": [
    {
     "data": {
      "text/plain": [
       "count    39115.000000\n",
       "mean        11.813601\n",
       "std          3.262987\n",
       "min          1.000000\n",
       "25%         10.000000\n",
       "50%         12.000000\n",
       "75%         14.000000\n",
       "max         40.000000\n",
       "Name: word_count, dtype: float64"
      ]
     },
     "execution_count": 82,
     "metadata": {},
     "output_type": "execute_result"
    }
   ],
   "source": [
    "##Descriptive statistics of word counts\n",
    "dataset.word_count.describe()"
   ]
  },
  {
   "cell_type": "code",
   "execution_count": 83,
   "metadata": {},
   "outputs": [
    {
     "data": {
      "text/plain": [
       "To              13415\n",
       "The              8942\n",
       "For              7836\n",
       "A                7356\n",
       "And              6126\n",
       "                ...  \n",
       "Launchers           1\n",
       "beds                1\n",
       "Unmute              1\n",
       "‘Full-Stack’        1\n",
       "Scales.             1\n",
       "Length: 45887, dtype: int64"
      ]
     },
     "execution_count": 83,
     "metadata": {},
     "output_type": "execute_result"
    }
   ],
   "source": [
    "#Identify common words\n",
    "#!pip3 install pandas --user\n",
    "import pandas as pd\n",
    "dataset.content = str(dataset.content).replace('\\n',' ').replace('\\n\\n',' ')\n",
    "freq = pd.Series(' '.join(dataset['title']).split()).value_counts()\n",
    "freq"
   ]
  },
  {
   "cell_type": "code",
   "execution_count": 84,
   "metadata": {},
   "outputs": [
    {
     "data": {
      "text/plain": [
       "Chatterbox,      1\n",
       "Boostable,       1\n",
       "Descriptions     1\n",
       "Market;          1\n",
       "C670X            1\n",
       "timelines        1\n",
       "Web-Connected    1\n",
       "Pay-Per-Call     1\n",
       "Fireside         1\n",
       "Skydrive         1\n",
       "Avatar           1\n",
       "Kudos,           1\n",
       "Anger            1\n",
       "Hotlist          1\n",
       "“Unicorn”        1\n",
       "Launchers        1\n",
       "beds             1\n",
       "Unmute           1\n",
       "‘Full-Stack’     1\n",
       "Scales.          1\n",
       "dtype: int64"
      ]
     },
     "execution_count": 84,
     "metadata": {},
     "output_type": "execute_result"
    }
   ],
   "source": [
    "#Identify uncommon words\n",
    "freq1 =  pd.Series(' '.join(dataset \n",
    "         ['title']).split()).value_counts()[-20:]\n",
    "freq1"
   ]
  },
  {
   "cell_type": "code",
   "execution_count": 86,
   "metadata": {},
   "outputs": [
    {
     "data": {
      "text/plain": [
       "0                How startups can use data to grow smarter\n",
       "1        While the IPO market roars back, venture remai...\n",
       "2        Instacart reverses course, re-introducing tips...\n",
       "3                            PayPal mulled buying GoFundMe\n",
       "4                              Uber hits another roadblock\n",
       "                               ...                        \n",
       "39110    Booktango Automatically Publishes Your Timeles...\n",
       "39111    Want An In-App Notification Center? There’s A ...\n",
       "39112    Urbanspoon: Traffic Up 80% In 2011, Mobile Gro...\n",
       "39113    YippieMove Wants To Become The Twilio Of Email...\n",
       "39114    With Speeksy, Facebook Users Can Meet New Peop...\n",
       "Name: title, Length: 39115, dtype: object"
      ]
     },
     "execution_count": 86,
     "metadata": {},
     "output_type": "execute_result"
    }
   ],
   "source": [
    "dataset.title"
   ]
  },
  {
   "cell_type": "code",
   "execution_count": 87,
   "metadata": {},
   "outputs": [
    {
     "name": "stdout",
     "output_type": "stream",
     "text": [
      "stemming: invers\n",
      "lemmatization: inversely\n"
     ]
    }
   ],
   "source": [
    "from nltk.stem.porter import PorterStemmer\n",
    "from nltk.stem.wordnet import WordNetLemmatizer\n",
    "lem = WordNetLemmatizer()\n",
    "stem = PorterStemmer()\n",
    "word = \"inversely\"\n",
    "print(\"stemming:\",stem.stem(word))\n",
    "print(\"lemmatization:\", lem.lemmatize(word, \"v\"))"
   ]
  },
  {
   "cell_type": "code",
   "execution_count": 88,
   "metadata": {},
   "outputs": [
    {
     "name": "stderr",
     "output_type": "stream",
     "text": [
      "[nltk_data] Downloading package stopwords to /home/shivi/nltk_data...\n",
      "[nltk_data]   Package stopwords is already up-to-date!\n",
      "[nltk_data] Downloading package wordnet to /home/shivi/nltk_data...\n",
      "[nltk_data]   Package wordnet is already up-to-date!\n"
     ]
    }
   ],
   "source": [
    "# Libraries for text preprocessing\n",
    "import re\n",
    "import nltk\n",
    "nltk.download('stopwords')\n",
    "from nltk.corpus import stopwords\n",
    "from nltk.stem.porter import PorterStemmer\n",
    "from nltk.tokenize import RegexpTokenizer\n",
    "nltk.download('wordnet') \n",
    "from nltk.stem.wordnet import WordNetLemmatizer"
   ]
  },
  {
   "cell_type": "code",
   "execution_count": 89,
   "metadata": {},
   "outputs": [],
   "source": [
    "##Creating a list of stop words and adding custom stopwords\n",
    "stop_words = set(stopwords.words(\"english\"))\n",
    "##Creating a list of custom stopwords\n",
    "new_words = [\"using\", \"show\", \"result\", \"large\", \"also\", \"iv\", \"one\", \"two\", \"new\", \"previously\", \"shown\"]\n",
    "stop_words = stop_words.union(new_words)"
   ]
  },
  {
   "cell_type": "code",
   "execution_count": 91,
   "metadata": {},
   "outputs": [],
   "source": [
    "corpus = []\n",
    "\n",
    "text = re.sub('[^a-zA-Z]', ' ', str(dataset.title))"
   ]
  },
  {
   "cell_type": "code",
   "execution_count": 92,
   "metadata": {},
   "outputs": [],
   "source": [
    "#Convert to lowercase\n",
    "text = text.lower()"
   ]
  },
  {
   "cell_type": "code",
   "execution_count": 93,
   "metadata": {},
   "outputs": [],
   "source": [
    "#remove tags\n",
    "text=re.sub(\"&lt;/?.*?&gt;\",\" &lt;&gt; \",text)\n",
    "    \n",
    "# remove special characters and digits\n",
    "text=re.sub(\"(\\\\d|\\\\W)+\",\" \",text)\n",
    "    \n",
    "##Convert to list from string\n",
    "text = text.split()\n",
    "    \n",
    "##Stemming\n",
    "ps=PorterStemmer()\n",
    "#Lemmatisation\n",
    "lem = WordNetLemmatizer()\n",
    "text = [lem.lemmatize(word) for word in text if not word in  \n",
    "            stop_words] \n",
    "text = \" \".join(text)\n",
    "corpus.append(text)"
   ]
  },
  {
   "cell_type": "code",
   "execution_count": 94,
   "metadata": {},
   "outputs": [
    {
     "data": {
      "text/plain": [
       "['startup use data grow smarter ipo market roar back venture remai instacart revers course introducing tip paypal mulled buying gofundme uber hit another roadblock booktango automatically publishes timeles want app notification center urbanspoon traffic mobile gro yippiemove want become twilio email speeksy facebook user meet peop name title length dtype object']"
      ]
     },
     "execution_count": 94,
     "metadata": {},
     "output_type": "execute_result"
    }
   ],
   "source": [
    "#View corpus item\n",
    "corpus"
   ]
  },
  {
   "cell_type": "code",
   "execution_count": 95,
   "metadata": {},
   "outputs": [
    {
     "name": "stderr",
     "output_type": "stream",
     "text": [
      "UsageError: Line magic function `%` not found.\n"
     ]
    }
   ],
   "source": [
    "#Word cloud\n",
    "from os import path\n",
    "from PIL import Image\n",
    "from wordcloud import WordCloud, STOPWORDS, ImageColorGenerator\n",
    "import matplotlib.pyplot as plt\n",
    "% matplotlib inline\n",
    "wordcloud = WordCloud(\n",
    "                          background_color='white',\n",
    "                          stopwords=stop_words,\n",
    "                          max_words=100,\n",
    "                          max_font_size=50, \n",
    "                          random_state=42\n",
    "                         ).generate(str(corpus))\n",
    "print(wordcloud)\n",
    "fig = plt.figure(1)\n",
    "plt.imshow(wordcloud)\n",
    "plt.axis('off')\n",
    "plt.show()\n",
    "fig.savefig(\"word1.png\", dpi=900)"
   ]
  },
  {
   "cell_type": "code",
   "execution_count": 96,
   "metadata": {},
   "outputs": [],
   "source": [
    "from sklearn.feature_extraction.text import CountVectorizer\n",
    "import re\n",
    "max_df = 0.7 # Removes terms with DF higher than the 70% of the documents\n",
    "\n",
    "min_df = 5 # Terms must have DF >= 5 to be considered\n",
    "cv=CountVectorizer(max_df,stop_words=stop_words, max_features=10000, ngram_range=(1,3))\n",
    "X=cv.fit_transform(corpus)"
   ]
  },
  {
   "cell_type": "code",
   "execution_count": 97,
   "metadata": {},
   "outputs": [
    {
     "data": {
      "text/plain": [
       "['startup',\n",
       " 'use',\n",
       " 'data',\n",
       " 'grow',\n",
       " 'smarter',\n",
       " 'ipo',\n",
       " 'market',\n",
       " 'roar',\n",
       " 'back',\n",
       " 'venture']"
      ]
     },
     "execution_count": 97,
     "metadata": {},
     "output_type": "execute_result"
    }
   ],
   "source": [
    "list(cv.vocabulary_.keys())[:10]"
   ]
  },
  {
   "cell_type": "code",
   "execution_count": 98,
   "metadata": {},
   "outputs": [
    {
     "ename": "NameError",
     "evalue": "name 'pandas' is not defined",
     "output_type": "error",
     "traceback": [
      "\u001b[0;31m---------------------------------------------------------------------------\u001b[0m",
      "\u001b[0;31mNameError\u001b[0m                                 Traceback (most recent call last)",
      "\u001b[0;32m<ipython-input-98-69aab6343f81>\u001b[0m in \u001b[0;36m<module>\u001b[0;34m\u001b[0m\n\u001b[1;32m     11\u001b[0m \u001b[0;31m#Convert most freq words to dataframe for plotting bar plot\u001b[0m\u001b[0;34m\u001b[0m\u001b[0;34m\u001b[0m\u001b[0;34m\u001b[0m\u001b[0m\n\u001b[1;32m     12\u001b[0m \u001b[0mtop_words\u001b[0m \u001b[0;34m=\u001b[0m \u001b[0mget_top_n_words\u001b[0m\u001b[0;34m(\u001b[0m\u001b[0mcorpus\u001b[0m\u001b[0;34m,\u001b[0m \u001b[0mn\u001b[0m\u001b[0;34m=\u001b[0m\u001b[0;36m20\u001b[0m\u001b[0;34m)\u001b[0m\u001b[0;34m\u001b[0m\u001b[0;34m\u001b[0m\u001b[0m\n\u001b[0;32m---> 13\u001b[0;31m \u001b[0mtop_df\u001b[0m \u001b[0;34m=\u001b[0m \u001b[0mpandas\u001b[0m\u001b[0;34m.\u001b[0m\u001b[0mDataFrame\u001b[0m\u001b[0;34m(\u001b[0m\u001b[0mtop_words\u001b[0m\u001b[0;34m)\u001b[0m\u001b[0;34m\u001b[0m\u001b[0;34m\u001b[0m\u001b[0m\n\u001b[0m\u001b[1;32m     14\u001b[0m \u001b[0mtop_df\u001b[0m\u001b[0;34m.\u001b[0m\u001b[0mcolumns\u001b[0m\u001b[0;34m=\u001b[0m\u001b[0;34m[\u001b[0m\u001b[0;34m\"Word\"\u001b[0m\u001b[0;34m,\u001b[0m \u001b[0;34m\"Freq\"\u001b[0m\u001b[0;34m]\u001b[0m\u001b[0;34m\u001b[0m\u001b[0;34m\u001b[0m\u001b[0m\n\u001b[1;32m     15\u001b[0m \u001b[0;31m#Barplot of most freq words\u001b[0m\u001b[0;34m\u001b[0m\u001b[0;34m\u001b[0m\u001b[0;34m\u001b[0m\u001b[0m\n",
      "\u001b[0;31mNameError\u001b[0m: name 'pandas' is not defined"
     ]
    }
   ],
   "source": [
    "#Most frequently occuring words\n",
    "def get_top_n_words(corpus, n=None):\n",
    "    vec = CountVectorizer().fit(corpus)\n",
    "    bag_of_words = vec.transform(corpus)\n",
    "    sum_words = bag_of_words.sum(axis=0) \n",
    "    words_freq = [(word, sum_words[0, idx]) for word, idx in      \n",
    "                   vec.vocabulary_.items()]\n",
    "    words_freq =sorted(words_freq, key = lambda x: x[1], \n",
    "                       reverse=True)\n",
    "    return words_freq[:n]\n",
    "#Convert most freq words to dataframe for plotting bar plot\n",
    "top_words = get_top_n_words(corpus, n=20)\n",
    "top_df = pandas.DataFrame(top_words)\n",
    "top_df.columns=[\"Word\", \"Freq\"]\n",
    "#Barplot of most freq words\n",
    "import seaborn as sns\n",
    "sns.set(rc={'figure.figsize':(13,8)})\n",
    "g = sns.barplot(x=\"Word\", y=\"Freq\", data=top_df)\n",
    "g.set_xticklabels(g.get_xticklabels(), rotation=30)"
   ]
  },
  {
   "cell_type": "code",
   "execution_count": 99,
   "metadata": {},
   "outputs": [
    {
     "name": "stdout",
     "output_type": "stream",
     "text": [
      "               Bi-gram  Freq\n",
      "0          startup use     1\n",
      "1             use data     1\n",
      "2            data grow     1\n",
      "3         grow smarter     1\n",
      "4          smarter ipo     1\n",
      "5           ipo market     1\n",
      "6          market roar     1\n",
      "7            roar back     1\n",
      "8         back venture     1\n",
      "9        venture remai     1\n",
      "10     remai instacart     1\n",
      "11    instacart revers     1\n",
      "12       revers course     1\n",
      "13  course introducing     1\n",
      "14     introducing tip     1\n",
      "15          tip paypal     1\n",
      "16       paypal mulled     1\n",
      "17       mulled buying     1\n",
      "18     buying gofundme     1\n",
      "19       gofundme uber     1\n"
     ]
    },
    {
     "data": {
      "text/plain": [
       "[Text(0, 0, 'startup use'),\n",
       " Text(0, 0, 'use data'),\n",
       " Text(0, 0, 'data grow'),\n",
       " Text(0, 0, 'grow smarter'),\n",
       " Text(0, 0, 'smarter ipo'),\n",
       " Text(0, 0, 'ipo market'),\n",
       " Text(0, 0, 'market roar'),\n",
       " Text(0, 0, 'roar back'),\n",
       " Text(0, 0, 'back venture'),\n",
       " Text(0, 0, 'venture remai'),\n",
       " Text(0, 0, 'remai instacart'),\n",
       " Text(0, 0, 'instacart revers'),\n",
       " Text(0, 0, 'revers course'),\n",
       " Text(0, 0, 'course introducing'),\n",
       " Text(0, 0, 'introducing tip'),\n",
       " Text(0, 0, 'tip paypal'),\n",
       " Text(0, 0, 'paypal mulled'),\n",
       " Text(0, 0, 'mulled buying'),\n",
       " Text(0, 0, 'buying gofundme'),\n",
       " Text(0, 0, 'gofundme uber')]"
      ]
     },
     "execution_count": 99,
     "metadata": {},
     "output_type": "execute_result"
    },
    {
     "data": {
      "image/png": "[encoded data removed]",
      "text/plain": [
       "<Figure size 936x576 with 1 Axes>"
      ]
     },
     "metadata": {},
     "output_type": "display_data"
    }
   ],
   "source": [
    "#Most frequently occuring Bi-grams\n",
    "def get_top_n2_words(corpus, n=None):\n",
    "    vec1 = CountVectorizer(ngram_range=(2,2),  \n",
    "            max_features=2000).fit(corpus)\n",
    "    bag_of_words = vec1.transform(corpus)\n",
    "    sum_words = bag_of_words.sum(axis=0) \n",
    "    words_freq = [(word, sum_words[0, idx]) for word, idx in     \n",
    "                  vec1.vocabulary_.items()]\n",
    "    words_freq =sorted(words_freq, key = lambda x: x[1], \n",
    "                reverse=True)\n",
    "    return words_freq[:n]\n",
    "top2_words = get_top_n2_words(corpus, n=20)\n",
    "top2_df = pd.DataFrame(top2_words)\n",
    "top2_df.columns=[\"Bi-gram\", \"Freq\"]\n",
    "print(top2_df)\n",
    "#Barplot of most freq Bi-grams\n",
    "import seaborn as sns\n",
    "sns.set(rc={'figure.figsize':(13,8)})\n",
    "h=sns.barplot(x=\"Bi-gram\", y=\"Freq\", data=top2_df)\n",
    "h.set_xticklabels(h.get_xticklabels(), rotation=45)"
   ]
  },
  {
   "cell_type": "code",
   "execution_count": 100,
   "metadata": {},
   "outputs": [
    {
     "name": "stdout",
     "output_type": "stream",
     "text": [
      "                     Tri-gram  Freq\n",
      "0            startup use data     1\n",
      "1               use data grow     1\n",
      "2           data grow smarter     1\n",
      "3            grow smarter ipo     1\n",
      "4          smarter ipo market     1\n",
      "5             ipo market roar     1\n",
      "6            market roar back     1\n",
      "7           roar back venture     1\n",
      "8          back venture remai     1\n",
      "9     venture remai instacart     1\n",
      "10     remai instacart revers     1\n",
      "11    instacart revers course     1\n",
      "12  revers course introducing     1\n",
      "13     course introducing tip     1\n",
      "14     introducing tip paypal     1\n",
      "15          tip paypal mulled     1\n",
      "16       paypal mulled buying     1\n",
      "17     mulled buying gofundme     1\n",
      "18       buying gofundme uber     1\n",
      "19          gofundme uber hit     1\n"
     ]
    },
    {
     "data": {
      "text/plain": [
       "[Text(0, 0, 'startup use data'),\n",
       " Text(0, 0, 'use data grow'),\n",
       " Text(0, 0, 'data grow smarter'),\n",
       " Text(0, 0, 'grow smarter ipo'),\n",
       " Text(0, 0, 'smarter ipo market'),\n",
       " Text(0, 0, 'ipo market roar'),\n",
       " Text(0, 0, 'market roar back'),\n",
       " Text(0, 0, 'roar back venture'),\n",
       " Text(0, 0, 'back venture remai'),\n",
       " Text(0, 0, 'venture remai instacart'),\n",
       " Text(0, 0, 'remai instacart revers'),\n",
       " Text(0, 0, 'instacart revers course'),\n",
       " Text(0, 0, 'revers course introducing'),\n",
       " Text(0, 0, 'course introducing tip'),\n",
       " Text(0, 0, 'introducing tip paypal'),\n",
       " Text(0, 0, 'tip paypal mulled'),\n",
       " Text(0, 0, 'paypal mulled buying'),\n",
       " Text(0, 0, 'mulled buying gofundme'),\n",
       " Text(0, 0, 'buying gofundme uber'),\n",
       " Text(0, 0, 'gofundme uber hit')]"
      ]
     },
     "execution_count": 100,
     "metadata": {},
     "output_type": "execute_result"
    },
    {
     "data": {
      "image/png": "[encoded data removed]",
      "text/plain": [
       "<Figure size 936x576 with 1 Axes>"
      ]
     },
     "metadata": {},
     "output_type": "display_data"
    }
   ],
   "source": [
    "#Most frequently occuring Tri-grams\n",
    "def get_top_n3_words(corpus, n=None):\n",
    "    vec1 = CountVectorizer(ngram_range=(3,3), \n",
    "           max_features=2000).fit(corpus)\n",
    "    bag_of_words = vec1.transform(corpus)\n",
    "    sum_words = bag_of_words.sum(axis=0) \n",
    "    words_freq = [(word, sum_words[0, idx]) for word, idx in     \n",
    "                  vec1.vocabulary_.items()]\n",
    "    words_freq =sorted(words_freq, key = lambda x: x[1], \n",
    "                reverse=True)\n",
    "    return words_freq[:n]\n",
    "top3_words = get_top_n3_words(corpus, n=20)\n",
    "top3_df = pd.DataFrame(top3_words)\n",
    "top3_df.columns=[\"Tri-gram\", \"Freq\"]\n",
    "print(top3_df)\n",
    "#Barplot of most freq Tri-grams\n",
    "import seaborn as sns\n",
    "sns.set(rc={'figure.figsize':(13,8)})\n",
    "j=sns.barplot(x=\"Tri-gram\", y=\"Freq\", data=top3_df)\n",
    "j.set_xticklabels(j.get_xticklabels(), rotation=45)"
   ]
  },
  {
   "cell_type": "code",
   "execution_count": 101,
   "metadata": {},
   "outputs": [
    {
     "name": "stdout",
     "output_type": "stream",
     "text": [
      "startup use data grow smarter ipo market roar back venture remai instacart revers course introducing tip paypal mulled buying gofundme uber hit another roadblock booktango automatically publishes timeles want app notification center urbanspoon traffic mobile gro yippiemove want become twilio email speeksy facebook user meet peop name title length dtype object\n"
     ]
    }
   ],
   "source": [
    "from sklearn.feature_extraction.text import TfidfTransformer\n",
    " \n",
    "tfidf_transformer=TfidfTransformer(smooth_idf=True,use_idf=True)\n",
    "tfidf_transformer.fit(X)\n",
    "# get feature names\n",
    "feature_names=cv.get_feature_names()\n",
    " \n",
    "# fetch document for which keywords needs to be extracted\n",
    "doc = \" \"\n",
    "for i in corpus:\n",
    "    doc= i.lower()\n",
    "    print(doc)\n",
    "#generate tf-idf for the given document\n",
    "tf_idf_vector=tfidf_transformer.transform(cv.transform([doc.lower()]))"
   ]
  },
  {
   "cell_type": "code",
   "execution_count": 102,
   "metadata": {},
   "outputs": [
    {
     "name": "stdout",
     "output_type": "stream",
     "text": [
      "\n",
      "Abstract:\n",
      "startup use data grow smarter ipo market roar back venture remai instacart revers course introducing tip paypal mulled buying gofundme uber hit another roadblock booktango automatically publishes timeles want app notification center urbanspoon traffic mobile gro yippiemove want become twilio email speeksy facebook user meet peop name title length dtype object\n",
      "\n",
      "Keywords:\n",
      "want 0.162\n",
      "yippiemove want become 0.081\n",
      "yippiemove want 0.081\n",
      "yippiemove 0.081\n",
      "want become twilio 0.081\n"
     ]
    }
   ],
   "source": [
    "#Function for sorting tf_idf in descending order\n",
    "from scipy.sparse import coo_matrix\n",
    "def sort_coo(coo_matrix):\n",
    "    tuples = zip(coo_matrix.col, coo_matrix.data)\n",
    "    return sorted(tuples, key=lambda x: (x[1], x[0]), reverse=True)\n",
    " \n",
    "def extract_topn_from_vector(feature_names, sorted_items, topn=10):\n",
    "    \"\"\"get the feature names and tf-idf score of top n items\"\"\"\n",
    "    \n",
    "    #use only topn items from vector\n",
    "    sorted_items = sorted_items[:topn]\n",
    " \n",
    "    score_vals = []\n",
    "    feature_vals = []\n",
    "    \n",
    "    # word index and corresponding tf-idf score\n",
    "    for idx, score in sorted_items:\n",
    "        \n",
    "        #keep track of feature name and its corresponding score\n",
    "        score_vals.append(round(score, 3))\n",
    "        feature_vals.append(feature_names[idx])\n",
    " \n",
    "    #create a tuples of feature,score\n",
    "    #results = zip(feature_vals,score_vals)\n",
    "    results= {}\n",
    "    for idx in range(len(feature_vals)):\n",
    "        results[feature_vals[idx]]=score_vals[idx]\n",
    "    \n",
    "    return results\n",
    "#sort the tf-idf vectors by descending order of scores\n",
    "sorted_items=sort_coo(tf_idf_vector.tocoo())\n",
    "#extract only the top n; n here is 10\n",
    "keywords=extract_topn_from_vector(feature_names,sorted_items,5)\n",
    " \n",
    "# now print the results\n",
    "print(\"\\nAbstract:\")\n",
    "print(doc)\n",
    "print(\"\\nKeywords:\")\n",
    "for k in keywords:\n",
    "    print(k,keywords[k])\n"
   ]
  },
  {
   "cell_type": "code",
   "execution_count": 103,
   "metadata": {},
   "outputs": [
    {
     "data": {
      "text/plain": [
       "39115"
      ]
     },
     "execution_count": 103,
     "metadata": {},
     "output_type": "execute_result"
    }
   ],
   "source": [
    "len(dataset)"
   ]
  },
  {
   "cell_type": "code",
   "execution_count": null,
   "metadata": {},
   "outputs": [],
   "source": []
  }
 ],
 "metadata": {
  "kernelspec": {
   "display_name": "Python 3",
   "language": "python",
   "name": "python3"
  },
  "language_info": {
   "codemirror_mode": {
    "name": "ipython",
    "version": 3
   },
   "file_extension": ".py",
   "mimetype": "text/x-python",
   "name": "python",
   "nbconvert_exporter": "python",
   "pygments_lexer": "ipython3",
   "version": "3.6.9"
  }
 },
 "nbformat": 4,
 "nbformat_minor": 2
}
